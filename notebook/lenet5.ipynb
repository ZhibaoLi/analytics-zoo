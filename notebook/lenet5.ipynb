{
 "cells": [
  {
   "cell_type": "markdown",
   "metadata": {
    "deletable": true,
    "editable": true
   },
   "source": [
    "# Handwritten Digit Classfication using Lenet"
   ]
  },
  {
   "cell_type": "code",
   "execution_count": 1,
   "metadata": {
    "collapsed": false,
    "deletable": true,
    "editable": true
   },
   "outputs": [
    {
     "name": "stdout",
     "output_type": "stream",
     "text": [
      "Populating the interactive namespace from numpy and matplotlib\n"
     ]
    }
   ],
   "source": [
    "%pylab inline\n",
    "\n",
    "import pandas\n",
    "import datetime as dt\n",
    "\n",
    "from nn.layer import *\n",
    "from optim.optimizer import *\n",
    "from util.common import *\n",
    "from dataset.transformer import *\n",
    "from dataset import mnist\n",
    "\n",
    "# Init Engine with 1 nodes and each node with 4 cores\n",
    "initEngine(1, 4)"
   ]
  },
  {
   "cell_type": "markdown",
   "metadata": {
    "deletable": true,
    "editable": true
   },
   "source": [
    "## 1. Train the network"
   ]
  },
  {
   "cell_type": "markdown",
   "metadata": {
    "deletable": true,
    "editable": true
   },
   "source": [
    "* prepare train and validation samples"
   ]
  },
  {
   "cell_type": "code",
   "execution_count": 2,
   "metadata": {
    "collapsed": false,
    "deletable": true,
    "editable": true
   },
   "outputs": [
    {
     "name": "stdout",
     "output_type": "stream",
     "text": [
      "('Extracting', '/Users/bigdl/data/mnist/train-images-idx3-ubyte.gz')\n",
      "('Extracting', '/Users/bigdl/data/mnist/train-labels-idx1-ubyte.gz')\n",
      "('Extracting', '/Users/bigdl/data/mnist/t10k-images-idx3-ubyte.gz')\n",
      "('Extracting', '/Users/bigdl/data/mnist/t10k-labels-idx1-ubyte.gz')\n",
      "60000\n",
      "10000\n"
     ]
    }
   ],
   "source": [
    "# Get and store MNIST into RDD of Sample\n",
    "def get_minst(data_type=\"train\"):\n",
    "    # target is start from 0,\n",
    "    (images, labels) = mnist.read_data_sets(\"/Users/bigdl/data/mnist\", data_type)\n",
    "    images = sc.parallelize(images)\n",
    "    labels = sc.parallelize(labels)\n",
    "    record = images.zip(labels).map(lambda (features, label):\n",
    "        Sample.from_ndarray(features, label + 1)) # Both features and labels are ndarray, and BigDL target starts from 1\n",
    "    return record\n",
    "\n",
    "train_rdd = get_minst(\"train\")\n",
    "val_rdd = get_minst(\"test\")\n",
    "print train_rdd.count()\n",
    "print val_rdd.count()"
   ]
  },
  {
   "cell_type": "markdown",
   "metadata": {
    "deletable": true,
    "editable": true
   },
   "source": [
    "* normalize the samples"
   ]
  },
  {
   "cell_type": "code",
   "execution_count": 3,
   "metadata": {
    "collapsed": true,
    "deletable": true,
    "editable": true
   },
   "outputs": [],
   "source": [
    "# Transform Image samples through map function\n",
    "train_data = train_rdd.map(normalizer(mnist.TRAIN_MEAN, mnist.TRAIN_STD))\n",
    "test_data = val_rdd.map(normalizer(mnist.TEST_MEAN, mnist.TEST_STD))"
   ]
  },
  {
   "cell_type": "markdown",
   "metadata": {
    "deletable": true,
    "editable": true
   },
   "source": [
    "* create the lenet-5 model"
   ]
  },
  {
   "cell_type": "code",
   "execution_count": 4,
   "metadata": {
    "collapsed": false,
    "deletable": true,
    "editable": true
   },
   "outputs": [
    {
     "name": "stdout",
     "output_type": "stream",
     "text": [
      "creating: createSequential\n",
      "creating: createReshape\n",
      "creating: createSpatialConvolution\n",
      "creating: createTanh\n",
      "creating: createSpatialMaxPooling\n",
      "creating: createTanh\n",
      "creating: createSpatialConvolution\n",
      "creating: createSpatialMaxPooling\n",
      "creating: createReshape\n",
      "creating: createLinear\n",
      "creating: createTanh\n",
      "creating: createLinear\n",
      "creating: createLogSoftMax\n"
     ]
    },
    {
     "data": {
      "text/plain": [
       "<nn.layer.Sequential at 0x1109aa890>"
      ]
     },
     "execution_count": 4,
     "metadata": {},
     "output_type": "execute_result"
    }
   ],
   "source": [
    "# Create a LeNet model\n",
    "def build_model(class_num):\n",
    "    model = Sequential()\n",
    "    model.add(Reshape([1, 28, 28]))\n",
    "    model.add(SpatialConvolution(1, 6, 5, 5).set_name('conv1'))\n",
    "    model.add(Tanh())\n",
    "    model.add(SpatialMaxPooling(2, 2, 2, 2).set_name('pool1'))\n",
    "    model.add(Tanh())\n",
    "    model.add(SpatialConvolution(6, 12, 5, 5).set_name('conv2'))\n",
    "    model.add(SpatialMaxPooling(2, 2, 2, 2).set_name('pool2'))\n",
    "    model.add(Reshape([12 * 4 * 4]))\n",
    "    model.add(Linear(12 * 4 * 4, 100).set_name('fc1'))\n",
    "    model.add(Tanh())\n",
    "    model.add(Linear(100, class_num).set_name('score'))\n",
    "    model.add(LogSoftMax())\n",
    "    return model\n",
    "lenet_model = build_model(10)\n",
    "lenet_model"
   ]
  },
  {
   "cell_type": "markdown",
   "metadata": {
    "deletable": true,
    "editable": true
   },
   "source": [
    "* configure optimizer"
   ]
  },
  {
   "cell_type": "code",
   "execution_count": 5,
   "metadata": {
    "collapsed": false,
    "deletable": true,
    "editable": true
   },
   "outputs": [
    {
     "name": "stdout",
     "output_type": "stream",
     "text": [
      "creating: createClassNLLCriterion\n",
      "creating: createMaxEpoch\n",
      "creating: createOptimizer\n",
      "creating: createEveryEpoch\n",
      "creating: createSeveralIteration\n",
      "creating: createSeveralIteration\n",
      "creating: createSeveralIteration\n",
      "creating: createSeveralIteration\n",
      "creating: createTrainSummary\n",
      "creating: createValidationSummary\n",
      "saving logs to  lenet-20170318-125941\n"
     ]
    }
   ],
   "source": [
    "# Create an Optimizer\n",
    "state = {\"learningRate\": 0.01,\n",
    "         \"learningRateDecay\": 0.0002}\n",
    "optimizer = Optimizer(\n",
    "    model=lenet_model,\n",
    "    training_rdd=train_data,\n",
    "    criterion=ClassNLLCriterion(),\n",
    "    optim_method=\"SGD\",\n",
    "    state=state,\n",
    "    end_trigger=MaxEpoch(2),\n",
    "    batch_size=128)\n",
    "\n",
    "# Set the validation logic\n",
    "optimizer.setvalidation(\n",
    "    batch_size=32,\n",
    "    val_rdd=test_data,\n",
    "    trigger=EveryEpoch(),\n",
    "    val_method=[\"top1\"]\n",
    ")\n",
    "\n",
    "app_name='lenet-'+dt.datetime.now().strftime(\"%Y%m%d-%H%M%S\")\n",
    "train_summary = TrainSummary(log_dir='/tmp/bigdl_summaries',\n",
    "                                     app_name=app_name,\n",
    "                                     trigger={\n",
    "                                         \"learningRate\": SeveralIteration(1),\n",
    "                                         \"loss\": SeveralIteration(1),\n",
    "                                         \"throughput\": SeveralIteration(1),\n",
    "                                         \"parameters\": SeveralIteration(50)\n",
    "                                        })\n",
    "val_summary = ValidationSummary(log_dir='/tmp/bigdl_summaries',\n",
    "                                        app_name=app_name,\n",
    "                                        trigger={})\n",
    "optimizer.set_train_summary(train_summary)\n",
    "optimizer.set_val_summary(val_summary)\n",
    "print \"saving logs to \",app_name\n",
    "# Set the model checkpoint logic\n",
    "#optimizer.setcheckpoint(EveryEpoch(), \"/tmp/lenet5/\")\n",
    "\n",
    "#You would see the model snapshot at dir:/tmp/lenet5/ for every epoch"
   ]
  },
  {
   "cell_type": "markdown",
   "metadata": {
    "deletable": true,
    "editable": true
   },
   "source": [
    "* Train the network. Wait some time till it finished.. Voila! You've got a trained model"
   ]
  },
  {
   "cell_type": "code",
   "execution_count": 6,
   "metadata": {
    "collapsed": false,
    "deletable": true,
    "editable": true
   },
   "outputs": [
    {
     "name": "stdout",
     "output_type": "stream",
     "text": [
      "Optimization Done.\n",
      "CPU times: user 4.33 ms, sys: 2.34 ms, total: 6.67 ms\n",
      "Wall time: 47.1 s\n"
     ]
    }
   ],
   "source": [
    "%%time\n",
    "# Boot training process\n",
    "trained_model = optimizer.optimize()\n",
    "print \"Optimization Done.\""
   ]
  },
  {
   "cell_type": "markdown",
   "metadata": {
    "deletable": true,
    "editable": true
   },
   "source": [
    "## 2 Inspect the prediction results"
   ]
  },
  {
   "cell_type": "code",
   "execution_count": null,
   "metadata": {
    "collapsed": true,
    "deletable": true,
    "editable": true
   },
   "outputs": [],
   "source": [
    "def map_predict_label(l):\n",
    "    return np.array(l).argmax()\n",
    "def map_groundtruth_label(l):\n",
    "    return l[0] - 1"
   ]
  },
  {
   "cell_type": "markdown",
   "metadata": {
    "deletable": true,
    "editable": true
   },
   "source": [
    "* Let's first take a few training samples and check the labels"
   ]
  },
  {
   "cell_type": "code",
   "execution_count": null,
   "metadata": {
    "collapsed": false,
    "deletable": true,
    "editable": true
   },
   "outputs": [],
   "source": [
    "# label-1 to restore the original label.\n",
    "print \"Ground Truth labels:\" \n",
    "print ', '.join([str(map_groundtruth_label(s.label)) for s in train_data.take(8)])\n",
    "imshow(np.column_stack([np.array(s.features).reshape(28,28) for s in train_data.take(8)]),cmap='gray'); axis('off')"
   ]
  },
  {
   "cell_type": "markdown",
   "metadata": {
    "deletable": true,
    "editable": true
   },
   "source": [
    "* Make predictions, take a few test samples, check the predicted labels and ground truth labels"
   ]
  },
  {
   "cell_type": "code",
   "execution_count": null,
   "metadata": {
    "collapsed": false,
    "deletable": true,
    "editable": true
   },
   "outputs": [],
   "source": [
    "%%time\n",
    "predictions = trained_model.predict(test_data)\n",
    "imshow(np.column_stack([np.array(s.features).reshape(28,28) for s in test_data.take(8)]),cmap='gray'); axis('off')\n",
    "print 'Ground Truth labels:'\n",
    "print ', '.join(str(map_groundtruth_label(s.label)) for s in test_data.take(8))\n",
    "#print 'Ground Truth:'\n",
    "#print '\\t'.join([str(s.label) for s in ground_truth])\n",
    "print 'Predicted labels:'\n",
    "print ', '.join(str(map_predict_label(s.label)) for s in predictions.take(8))"
   ]
  },
  {
   "cell_type": "markdown",
   "metadata": {
    "deletable": true,
    "editable": true
   },
   "source": [
    "## 3 Inspect the model"
   ]
  },
  {
   "cell_type": "markdown",
   "metadata": {
    "deletable": true,
    "editable": true
   },
   "source": [
    "Now look at the parameter shapes. The parameters are exposed as a dict, and can be retrieved using model.parameters().\n",
    "\n",
    "The param shapes typically have the form (batch_number?, output_channels, input_channels, filter_height, filter_width) (for the weights) and the 1-dimensional shape (output_channels,) (for the biases)."
   ]
  },
  {
   "cell_type": "code",
   "execution_count": null,
   "metadata": {
    "collapsed": false,
    "deletable": true,
    "editable": true
   },
   "outputs": [],
   "source": [
    "params = trained_model.parameters()\n",
    "\n",
    "#batch num, output_dim, input_dim, spacial_dim\n",
    "for layer_name, param in params.iteritems():\n",
    "    print layer_name,param['weight'].shape,param['bias'].shape"
   ]
  },
  {
   "cell_type": "markdown",
   "metadata": {
    "deletable": true,
    "editable": true
   },
   "source": [
    "* visualize the weights"
   ]
  },
  {
   "cell_type": "code",
   "execution_count": null,
   "metadata": {
    "collapsed": true,
    "deletable": true,
    "editable": true
   },
   "outputs": [],
   "source": [
    "#vis_square is borrowed from caffe example\n",
    "def vis_square(data):\n",
    "    \"\"\"Take an array of shape (n, height, width) or (n, height, width, 3)\n",
    "       and visualize each (height, width) thing in a grid of size approx. sqrt(n) by sqrt(n)\"\"\"\n",
    "    \n",
    "    # normalize data for display\n",
    "    data = (data - data.min()) / (data.max() - data.min())\n",
    "    # force the number of filters to be square\n",
    "    n = int(np.ceil(np.sqrt(data.shape[0])))\n",
    "    padding = (((0, n ** 2 - data.shape[0]),\n",
    "               (0, 1), (0, 1))                 # add some space between filters\n",
    "               + ((0, 0),) * (data.ndim - 3))  # don't pad the last dimension (if there is one)\n",
    "    data = np.pad(data, padding, mode='constant', constant_values=1)  # pad with ones (white)\n",
    "    \n",
    "    # tile the filters into an image\n",
    "    data = data.reshape((n, n) + data.shape[1:]).transpose((0, 2, 1, 3) + tuple(range(4, data.ndim + 1)))\n",
    "    data = data.reshape((n * data.shape[1], n * data.shape[3]) + data.shape[4:])\n",
    "  \n",
    "    plt.imshow(data,cmap='gray'); plt.axis('off')"
   ]
  },
  {
   "cell_type": "code",
   "execution_count": null,
   "metadata": {
    "collapsed": false,
    "deletable": true,
    "editable": true
   },
   "outputs": [],
   "source": [
    "filters_conv1 = params['conv1']['weight']\n",
    "\n",
    "filters_conv1[0,0,0]\n",
    "\n",
    "vis_square(np.squeeze(filters_conv1, axis=(0,)).reshape(1*6,5,5))"
   ]
  },
  {
   "cell_type": "code",
   "execution_count": null,
   "metadata": {
    "collapsed": false,
    "deletable": true,
    "editable": true
   },
   "outputs": [],
   "source": [
    "# the parameters are a list of [weights, biases]\n",
    "filters_conv2 = params['conv2']['weight']\n",
    "\n",
    "vis_square(np.squeeze(filters_conv2, axis=(0,)).reshape(12*6,5,5))"
   ]
  },
  {
   "cell_type": "markdown",
   "metadata": {
    "collapsed": true,
    "deletable": true,
    "editable": true
   },
   "source": [
    "## 4 Draw the learning curves"
   ]
  },
  {
   "cell_type": "code",
   "execution_count": null,
   "metadata": {
    "collapsed": false,
    "deletable": true,
    "editable": true
   },
   "outputs": [],
   "source": [
    "loss = np.array(train_summary.read_scalar(\"loss\"))\n",
    "lr = np.array(train_summary.read_scalar(\"learningRate\"))\n",
    "top1 = np.array(val_summary.read_scalar(\"top1 accuracy\"))\n",
    "\n",
    "plt.figure(figsize = (12,12))\n",
    "plt.subplot(3,1,1)\n",
    "plt.plot(loss[:,0],loss[:,1],label='loss')\n",
    "plt.xlim(0,loss.shape[0]+10)\n",
    "plt.grid(True)\n",
    "plt.title(\"loss\")\n",
    "plt.subplot(3,1,2)\n",
    "plt.plot(lr[:,0],lr[:,1],label='learning rate')\n",
    "plt.xlim(0,loss.shape[0]+10)\n",
    "plt.grid(True)\n",
    "plt.title(\"learning rate\")\n",
    "plt.subplot(3,1,3)\n",
    "plt.plot(top1[:,0],top1[:,1],label='top1')\n",
    "plt.xlim(0,loss.shape[0]+10)\n",
    "plt.title(\"top1 accuracy\")\n",
    "plt.grid(True)"
   ]
  },
  {
   "cell_type": "code",
   "execution_count": null,
   "metadata": {
    "collapsed": true,
    "deletable": true,
    "editable": true
   },
   "outputs": [],
   "source": []
  }
 ],
 "metadata": {
  "kernelspec": {
   "display_name": "Python 2",
   "language": "python",
   "name": "python2"
  },
  "language_info": {
   "codemirror_mode": {
    "name": "ipython",
    "version": 2
   },
   "file_extension": ".py",
   "mimetype": "text/x-python",
   "name": "python",
   "nbconvert_exporter": "python",
   "pygments_lexer": "ipython2",
   "version": "2.7.13"
  }
 },
 "nbformat": 4,
 "nbformat_minor": 2
}
